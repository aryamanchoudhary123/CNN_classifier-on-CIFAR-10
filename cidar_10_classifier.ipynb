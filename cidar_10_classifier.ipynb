{
  "cells": [
    {
      "cell_type": "markdown",
      "metadata": {
        "id": "WNEH9EKHtNbC"
      },
      "source": [
        "# Importing The Data & Processing it"
      ]
    },
    {
      "cell_type": "markdown",
      "metadata": {
        "id": "rM1tHNGJnQUD"
      },
      "source": [
        "**Importing the Required libraries**"
      ]
    },
    {
      "cell_type": "code",
      "execution_count": null,
      "metadata": {
        "id": "WzvJnxDCk2Us"
      },
      "outputs": [],
      "source": [
        "import numpy as np \n",
        "import pandas as pd\n",
        "import tensorflow as tf\n",
        "import matplotlib.pyplot as plt \n",
        "%matplotlib inline \n",
        "#so that graph remain inline with the notebook\n",
        "\n",
        "from __future__ import print_function # bring print from python 3 to python 2.6 \n",
        "import keras\n",
        "from keras.models import Sequential\n",
        "from keras.layers import Dense, Conv2D, MaxPooling2D , Dropout, Flatten\n"
      ]
    },
    {
      "cell_type": "markdown",
      "metadata": {
        "id": "7h0hRxEBnYEL"
      },
      "source": [
        "**Importing The dataset**"
      ]
    },
    {
      "cell_type": "code",
      "execution_count": null,
      "metadata": {
        "id": "Kt38v9b9nbpa",
        "scrolled": false
      },
      "outputs": [],
      "source": [
        "from keras.datasets import cifar10\n",
        "\n",
        "(train_images, train_labels), (test_images,test_labels) = cifar10.load_data()"
      ]
    },
    {
      "cell_type": "markdown",
      "metadata": {
        "id": "NLO73KMkoEj3"
      },
      "source": [
        "**Discovering the training data**"
      ]
    },
    {
      "cell_type": "code",
      "execution_count": null,
      "metadata": {
        "id": "nAGVXpGMnrQe"
      },
      "outputs": [],
      "source": [
        "from tensorflow.keras.utils import to_categorical"
      ]
    },
    {
      "cell_type": "code",
      "execution_count": null,
      "metadata": {
        "id": "31cticm7oSO9"
      },
      "outputs": [],
      "source": [
        "print(\"Shape of training data : \", train_images.shape, train_labels.shape)\n",
        "print(\"Shape of testing data : \", test_images.shape, test_labels.shape)"
      ]
    },
    {
      "cell_type": "code",
      "execution_count": null,
      "metadata": {
        "id": "qWzN0I7xo4ha"
      },
      "outputs": [],
      "source": [
        "#Finding the unique values from the training data \n",
        "\n",
        "classes = np.unique(train_labels)\n",
        "no_of_classes = len(classes)\n",
        "print(\"total number of output classes : \", no_of_classes)\n",
        "print(\"Output classes : \", classes)"
      ]
    },
    {
      "cell_type": "markdown",
      "metadata": {
        "id": "S10wLnEapyLw"
      },
      "source": [
        "**Finding the shape of input images and creating the variable input_shape**"
      ]
    },
    {
      "cell_type": "code",
      "execution_count": null,
      "metadata": {
        "id": "BwgGQEoFpaaJ"
      },
      "outputs": [],
      "source": [
        "no_of_rows, no_of_cols, no_of_dims = train_images.shape[1:]\n",
        "training_data = train_images.reshape(train_images.shape[0],no_of_rows,no_of_cols,no_of_dims)\n",
        "testing_data = test_images.reshape(test_images.shape[0],no_of_rows,no_of_cols,no_of_dims)\n",
        "input_shape = (no_of_rows,no_of_cols,no_of_dims)"
      ]
    },
    {
      "cell_type": "markdown",
      "metadata": {
        "id": "dDTUiu67qyDk"
      },
      "source": [
        "**Changing the datatype to Float**"
      ]
    },
    {
      "cell_type": "code",
      "execution_count": null,
      "metadata": {
        "id": "tM4sBRUJqICD"
      },
      "outputs": [],
      "source": [
        "training_data = training_data.astype('float32')\n",
        "testing_data = testing_data.astype('float32')\n"
      ]
    },
    {
      "cell_type": "markdown",
      "metadata": {
        "id": "PmKFAutWrFKd"
      },
      "source": [
        "**Scaling the data to lie between 0 and 1**"
      ]
    },
    {
      "cell_type": "code",
      "execution_count": null,
      "metadata": {
        "id": "WKC7yke3rEOK"
      },
      "outputs": [],
      "source": [
        "training_data /=255 #max value\n",
        "testing_data /= 255"
      ]
    },
    {
      "cell_type": "markdown",
      "metadata": {
        "id": "M7fveZ8XrmW1"
      },
      "source": [
        "**Changing the label from integer to categorical data**"
      ]
    },
    {
      "cell_type": "code",
      "execution_count": null,
      "metadata": {
        "id": "tP4rVG3MrNFe"
      },
      "outputs": [],
      "source": [
        "train_Labels = to_categorical(train_labels)\n",
        "test_Labels = to_categorical(test_labels) # converts the categories to array of 9 0's and one 1 in index of the original value\n",
        "len(train_Labels[0])"
      ]
    },
    {
      "cell_type": "code",
      "execution_count": null,
      "metadata": {
        "id": "tEMRh85Vr5MC"
      },
      "outputs": [],
      "source": [
        "print(\"Original label 0 :\", train_labels[0])\n",
        "print(\"On conversion to categorical (one-hot) : \", train_Labels[0])"
      ]
    },
    {
      "cell_type": "markdown",
      "metadata": {
        "id": "9BOt6wbAtJZ_"
      },
      "source": [
        "# Creating The Model"
      ]
    },
    {
      "cell_type": "markdown",
      "metadata": {
        "id": "ksP7TKv8tZC3"
      },
      "source": [
        "**Model creation function**"
      ]
    },
    {
      "cell_type": "code",
      "execution_count": null,
      "metadata": {
        "id": "P2PUHthesk2V"
      },
      "outputs": [],
      "source": [
        "def createModel():\n",
        "  model = Sequential()\n",
        "  #The first two layers with 32 filters of window size 3x3\n",
        "  model.add(Conv2D(32,(3,3),padding='same',activation='relu',input_shape=input_shape))\n",
        "  model.add(Conv2D(32,(3,3),activation='relu'))\n",
        "  model.add(MaxPooling2D(pool_size=(2,2)))\n",
        "  model.add(Dropout(0.25))\n",
        "\n",
        "  model.add(Conv2D(64,(3,3),padding='same',activation='relu'))\n",
        "  model.add(Conv2D(64,(3,3),activation='relu'))\n",
        "  model.add(MaxPooling2D(pool_size=(2,2)))\n",
        "\n",
        "  model.add(Conv2D(64,(3,3),padding='same',activation='relu'))\n",
        "  model.add(Conv2D(64,(3,3),activation='relu'))\n",
        "  model.add(MaxPooling2D(pool_size=(2,2)))\n",
        "  \n",
        "  model.add(Flatten())\n",
        "  model.add(Dense(512,activation='relu'))\n",
        "  model.add(Dropout(0.5))\n",
        "  model.add(Dense(no_of_classes, activation='softmax'))\n",
        "\n",
        "  return model\n"
      ]
    },
    {
      "cell_type": "code",
      "execution_count": null,
      "metadata": {
        "colab": {
          "base_uri": "https://localhost:8080/"
        },
        "id": "qYHMQlaY6hqU",
        "outputId": "51f63ccf-50d0-4888-e4fa-2670339870e5"
      },
      "outputs": [
        {
          "output_type": "stream",
          "name": "stdout",
          "text": [
            "Model: \"sequential\"\n",
            "_________________________________________________________________\n",
            " Layer (type)                Output Shape              Param #   \n",
            "=================================================================\n",
            " conv2d (Conv2D)             (None, 32, 32, 32)        896       \n",
            "                                                                 \n",
            " conv2d_1 (Conv2D)           (None, 30, 30, 32)        9248      \n",
            "                                                                 \n",
            " max_pooling2d (MaxPooling2D  (None, 15, 15, 32)       0         \n",
            " )                                                               \n",
            "                                                                 \n",
            " dropout (Dropout)           (None, 15, 15, 32)        0         \n",
            "                                                                 \n",
            " conv2d_2 (Conv2D)           (None, 15, 15, 64)        18496     \n",
            "                                                                 \n",
            " conv2d_3 (Conv2D)           (None, 13, 13, 64)        36928     \n",
            "                                                                 \n",
            " max_pooling2d_1 (MaxPooling  (None, 6, 6, 64)         0         \n",
            " 2D)                                                             \n",
            "                                                                 \n",
            " conv2d_4 (Conv2D)           (None, 6, 6, 64)          36928     \n",
            "                                                                 \n",
            " conv2d_5 (Conv2D)           (None, 4, 4, 64)          36928     \n",
            "                                                                 \n",
            " max_pooling2d_2 (MaxPooling  (None, 2, 2, 64)         0         \n",
            " 2D)                                                             \n",
            "                                                                 \n",
            " flatten (Flatten)           (None, 256)               0         \n",
            "                                                                 \n",
            " dense (Dense)               (None, 512)               131584    \n",
            "                                                                 \n",
            " dropout_1 (Dropout)         (None, 512)               0         \n",
            "                                                                 \n",
            " dense_1 (Dense)             (None, 10)                5130      \n",
            "                                                                 \n",
            "=================================================================\n",
            "Total params: 276,138\n",
            "Trainable params: 276,138\n",
            "Non-trainable params: 0\n",
            "_________________________________________________________________\n"
          ]
        },
        {
          "output_type": "stream",
          "name": "stderr",
          "text": [
            "/usr/local/lib/python3.7/dist-packages/keras/optimizer_v2/rmsprop.py:130: UserWarning: The `lr` argument is deprecated, use `learning_rate` instead.\n",
            "  super(RMSprop, self).__init__(name, **kwargs)\n"
          ]
        }
      ],
      "source": [
        "model_one = createModel()\n",
        "batch_size = 16\n",
        "epochs = 100\n",
        "model_one.compile(loss='categorical_crossentropy',metrics=['accuracy'],optimizer=tf.keras.optimizers.RMSprop(lr=2e-5))\n",
        "model_one.summary()"
      ]
    },
    {
      "cell_type": "code",
      "execution_count": null,
      "metadata": {
        "colab": {
          "base_uri": "https://localhost:8080/"
        },
        "id": "YrcVYtVf7Jny",
        "outputId": "8a9f348c-7f4b-4951-fbd7-efb40b17c1f7"
      },
      "outputs": [
        {
          "output_type": "stream",
          "name": "stdout",
          "text": [
            "Epoch 1/100\n",
            "3125/3125 [==============================] - 57s 18ms/step - loss: 1.2824 - accuracy: 0.5377 - val_loss: 1.2086 - val_accuracy: 0.5653\n",
            "Epoch 2/100\n",
            "3125/3125 [==============================] - 55s 18ms/step - loss: 1.2558 - accuracy: 0.5493 - val_loss: 1.1992 - val_accuracy: 0.5690\n",
            "Epoch 3/100\n",
            "3125/3125 [==============================] - 54s 17ms/step - loss: 1.2295 - accuracy: 0.5591 - val_loss: 1.1866 - val_accuracy: 0.5760\n",
            "Epoch 4/100\n",
            "3125/3125 [==============================] - 55s 17ms/step - loss: 1.2079 - accuracy: 0.5683 - val_loss: 1.1738 - val_accuracy: 0.5773\n",
            "Epoch 5/100\n",
            "3125/3125 [==============================] - 54s 17ms/step - loss: 1.1852 - accuracy: 0.5774 - val_loss: 1.2139 - val_accuracy: 0.5640\n",
            "Epoch 6/100\n",
            "3125/3125 [==============================] - 54s 17ms/step - loss: 1.1617 - accuracy: 0.5834 - val_loss: 1.1183 - val_accuracy: 0.6006\n",
            "Epoch 7/100\n",
            "3125/3125 [==============================] - 54s 17ms/step - loss: 1.1435 - accuracy: 0.5942 - val_loss: 1.1052 - val_accuracy: 0.6039\n",
            "Epoch 8/100\n",
            "3125/3125 [==============================] - 54s 17ms/step - loss: 1.1234 - accuracy: 0.6001 - val_loss: 1.0803 - val_accuracy: 0.6116\n",
            "Epoch 9/100\n",
            "3125/3125 [==============================] - 54s 17ms/step - loss: 1.1081 - accuracy: 0.6043 - val_loss: 1.0689 - val_accuracy: 0.6148\n",
            "Epoch 10/100\n",
            "3125/3125 [==============================] - 54s 17ms/step - loss: 1.0889 - accuracy: 0.6123 - val_loss: 1.0519 - val_accuracy: 0.6254\n",
            "Epoch 11/100\n",
            "3125/3125 [==============================] - 54s 17ms/step - loss: 1.0734 - accuracy: 0.6205 - val_loss: 1.0447 - val_accuracy: 0.6248\n",
            "Epoch 12/100\n",
            "3125/3125 [==============================] - 54s 17ms/step - loss: 1.0552 - accuracy: 0.6271 - val_loss: 1.0574 - val_accuracy: 0.6178\n",
            "Epoch 13/100\n",
            "3125/3125 [==============================] - 54s 17ms/step - loss: 1.0406 - accuracy: 0.6306 - val_loss: 1.0138 - val_accuracy: 0.6396\n",
            "Epoch 14/100\n",
            "3125/3125 [==============================] - 54s 17ms/step - loss: 1.0263 - accuracy: 0.6351 - val_loss: 0.9825 - val_accuracy: 0.6520\n",
            "Epoch 15/100\n",
            "3125/3125 [==============================] - 54s 17ms/step - loss: 1.0162 - accuracy: 0.6425 - val_loss: 0.9942 - val_accuracy: 0.6463\n",
            "Epoch 16/100\n",
            "3125/3125 [==============================] - 54s 17ms/step - loss: 1.0014 - accuracy: 0.6435 - val_loss: 0.9778 - val_accuracy: 0.6518\n",
            "Epoch 17/100\n",
            "3125/3125 [==============================] - 54s 17ms/step - loss: 0.9907 - accuracy: 0.6498 - val_loss: 0.9558 - val_accuracy: 0.6618\n",
            "Epoch 18/100\n",
            "3125/3125 [==============================] - 54s 17ms/step - loss: 0.9763 - accuracy: 0.6570 - val_loss: 0.9610 - val_accuracy: 0.6548\n",
            "Epoch 19/100\n",
            "3125/3125 [==============================] - 54s 17ms/step - loss: 0.9681 - accuracy: 0.6588 - val_loss: 0.9477 - val_accuracy: 0.6608\n",
            "Epoch 20/100\n",
            "3125/3125 [==============================] - 54s 17ms/step - loss: 0.9537 - accuracy: 0.6620 - val_loss: 0.9386 - val_accuracy: 0.6673\n",
            "Epoch 21/100\n",
            "3125/3125 [==============================] - 54s 17ms/step - loss: 0.9414 - accuracy: 0.6682 - val_loss: 0.9379 - val_accuracy: 0.6680\n",
            "Epoch 22/100\n",
            "3125/3125 [==============================] - 55s 17ms/step - loss: 0.9317 - accuracy: 0.6704 - val_loss: 0.9275 - val_accuracy: 0.6714\n",
            "Epoch 23/100\n",
            "3125/3125 [==============================] - 55s 18ms/step - loss: 0.9211 - accuracy: 0.6738 - val_loss: 0.9063 - val_accuracy: 0.6812\n",
            "Epoch 24/100\n",
            "3125/3125 [==============================] - 55s 18ms/step - loss: 0.9143 - accuracy: 0.6782 - val_loss: 0.9067 - val_accuracy: 0.6776\n",
            "Epoch 25/100\n",
            "3125/3125 [==============================] - 55s 18ms/step - loss: 0.9010 - accuracy: 0.6822 - val_loss: 0.9149 - val_accuracy: 0.6762\n",
            "Epoch 26/100\n",
            "3125/3125 [==============================] - 55s 18ms/step - loss: 0.8927 - accuracy: 0.6828 - val_loss: 0.9470 - val_accuracy: 0.6700\n",
            "Epoch 27/100\n",
            "3125/3125 [==============================] - 55s 18ms/step - loss: 0.8839 - accuracy: 0.6869 - val_loss: 0.8977 - val_accuracy: 0.6814\n",
            "Epoch 28/100\n",
            "3125/3125 [==============================] - 55s 18ms/step - loss: 0.8775 - accuracy: 0.6921 - val_loss: 0.8717 - val_accuracy: 0.6924\n",
            "Epoch 29/100\n",
            "3125/3125 [==============================] - 55s 17ms/step - loss: 0.8663 - accuracy: 0.6937 - val_loss: 0.8691 - val_accuracy: 0.6937\n",
            "Epoch 30/100\n",
            "3125/3125 [==============================] - 55s 17ms/step - loss: 0.8562 - accuracy: 0.6983 - val_loss: 0.8886 - val_accuracy: 0.6897\n",
            "Epoch 31/100\n",
            "3125/3125 [==============================] - 54s 17ms/step - loss: 0.8520 - accuracy: 0.6991 - val_loss: 0.8553 - val_accuracy: 0.6996\n",
            "Epoch 32/100\n",
            "3125/3125 [==============================] - 55s 18ms/step - loss: 0.8453 - accuracy: 0.7021 - val_loss: 0.8553 - val_accuracy: 0.7007\n",
            "Epoch 33/100\n",
            "3125/3125 [==============================] - 54s 17ms/step - loss: 0.8359 - accuracy: 0.7043 - val_loss: 0.8805 - val_accuracy: 0.6961\n",
            "Epoch 34/100\n",
            "3125/3125 [==============================] - 54s 17ms/step - loss: 0.8303 - accuracy: 0.7072 - val_loss: 0.8631 - val_accuracy: 0.6973\n",
            "Epoch 35/100\n",
            "3125/3125 [==============================] - 54s 17ms/step - loss: 0.8217 - accuracy: 0.7106 - val_loss: 0.8573 - val_accuracy: 0.7011\n",
            "Epoch 36/100\n",
            "3125/3125 [==============================] - 54s 17ms/step - loss: 0.8143 - accuracy: 0.7121 - val_loss: 0.8498 - val_accuracy: 0.7038\n",
            "Epoch 37/100\n",
            "3125/3125 [==============================] - 54s 17ms/step - loss: 0.8046 - accuracy: 0.7139 - val_loss: 0.8287 - val_accuracy: 0.7102\n",
            "Epoch 38/100\n",
            "3125/3125 [==============================] - 54s 17ms/step - loss: 0.8032 - accuracy: 0.7179 - val_loss: 0.8207 - val_accuracy: 0.7098\n",
            "Epoch 39/100\n",
            "3125/3125 [==============================] - 54s 17ms/step - loss: 0.7949 - accuracy: 0.7192 - val_loss: 0.8596 - val_accuracy: 0.7070\n",
            "Epoch 40/100\n",
            "3125/3125 [==============================] - 55s 18ms/step - loss: 0.7864 - accuracy: 0.7239 - val_loss: 0.8077 - val_accuracy: 0.7178\n",
            "Epoch 41/100\n",
            "3125/3125 [==============================] - 54s 17ms/step - loss: 0.7831 - accuracy: 0.7230 - val_loss: 0.8296 - val_accuracy: 0.7120\n",
            "Epoch 42/100\n",
            "3125/3125 [==============================] - 55s 18ms/step - loss: 0.7741 - accuracy: 0.7273 - val_loss: 0.8330 - val_accuracy: 0.7088\n",
            "Epoch 43/100\n",
            "3125/3125 [==============================] - 55s 17ms/step - loss: 0.7657 - accuracy: 0.7314 - val_loss: 0.8227 - val_accuracy: 0.7175\n",
            "Epoch 44/100\n",
            "3125/3125 [==============================] - 55s 18ms/step - loss: 0.7613 - accuracy: 0.7340 - val_loss: 0.8280 - val_accuracy: 0.7156\n",
            "Epoch 45/100\n",
            "3125/3125 [==============================] - 54s 17ms/step - loss: 0.7581 - accuracy: 0.7355 - val_loss: 0.8200 - val_accuracy: 0.7190\n",
            "Epoch 46/100\n",
            "3125/3125 [==============================] - 54s 17ms/step - loss: 0.7489 - accuracy: 0.7392 - val_loss: 0.8010 - val_accuracy: 0.7195\n",
            "Epoch 47/100\n",
            "3125/3125 [==============================] - 55s 17ms/step - loss: 0.7476 - accuracy: 0.7385 - val_loss: 0.7731 - val_accuracy: 0.7307\n",
            "Epoch 48/100\n",
            "3125/3125 [==============================] - 55s 18ms/step - loss: 0.7394 - accuracy: 0.7410 - val_loss: 0.8229 - val_accuracy: 0.7181\n",
            "Epoch 49/100\n",
            "3125/3125 [==============================] - 54s 17ms/step - loss: 0.7325 - accuracy: 0.7428 - val_loss: 0.8130 - val_accuracy: 0.7207\n",
            "Epoch 50/100\n",
            "3125/3125 [==============================] - 55s 18ms/step - loss: 0.7314 - accuracy: 0.7437 - val_loss: 0.7914 - val_accuracy: 0.7295\n",
            "Epoch 51/100\n",
            "3125/3125 [==============================] - 54s 17ms/step - loss: 0.7240 - accuracy: 0.7435 - val_loss: 0.7674 - val_accuracy: 0.7372\n",
            "Epoch 52/100\n",
            "3125/3125 [==============================] - 55s 18ms/step - loss: 0.7185 - accuracy: 0.7480 - val_loss: 0.7916 - val_accuracy: 0.7307\n",
            "Epoch 53/100\n",
            "3125/3125 [==============================] - 54s 17ms/step - loss: 0.7135 - accuracy: 0.7487 - val_loss: 0.7676 - val_accuracy: 0.7357\n",
            "Epoch 54/100\n",
            "3125/3125 [==============================] - 55s 18ms/step - loss: 0.7088 - accuracy: 0.7521 - val_loss: 0.7760 - val_accuracy: 0.7293\n",
            "Epoch 55/100\n",
            "3125/3125 [==============================] - 54s 17ms/step - loss: 0.7025 - accuracy: 0.7543 - val_loss: 0.7665 - val_accuracy: 0.7407\n",
            "Epoch 56/100\n",
            "3125/3125 [==============================] - 54s 17ms/step - loss: 0.6984 - accuracy: 0.7543 - val_loss: 0.7599 - val_accuracy: 0.7376\n",
            "Epoch 57/100\n",
            "3125/3125 [==============================] - 54s 17ms/step - loss: 0.6972 - accuracy: 0.7580 - val_loss: 0.7615 - val_accuracy: 0.7368\n",
            "Epoch 58/100\n",
            "3125/3125 [==============================] - 54s 17ms/step - loss: 0.6931 - accuracy: 0.7577 - val_loss: 0.7545 - val_accuracy: 0.7430\n",
            "Epoch 59/100\n",
            "3125/3125 [==============================] - 54s 17ms/step - loss: 0.6879 - accuracy: 0.7611 - val_loss: 0.7807 - val_accuracy: 0.7366\n",
            "Epoch 60/100\n",
            "3125/3125 [==============================] - 55s 17ms/step - loss: 0.6864 - accuracy: 0.7611 - val_loss: 0.7708 - val_accuracy: 0.7399\n",
            "Epoch 61/100\n",
            "3125/3125 [==============================] - 54s 17ms/step - loss: 0.6771 - accuracy: 0.7641 - val_loss: 0.7497 - val_accuracy: 0.7497\n",
            "Epoch 62/100\n",
            "3125/3125 [==============================] - 54s 17ms/step - loss: 0.6776 - accuracy: 0.7647 - val_loss: 0.7728 - val_accuracy: 0.7418\n",
            "Epoch 63/100\n",
            "3125/3125 [==============================] - 54s 17ms/step - loss: 0.6688 - accuracy: 0.7658 - val_loss: 0.7424 - val_accuracy: 0.7481\n",
            "Epoch 64/100\n",
            "3125/3125 [==============================] - 55s 18ms/step - loss: 0.6629 - accuracy: 0.7678 - val_loss: 0.7559 - val_accuracy: 0.7455\n",
            "Epoch 65/100\n",
            "3125/3125 [==============================] - 54s 17ms/step - loss: 0.6635 - accuracy: 0.7696 - val_loss: 0.7601 - val_accuracy: 0.7430\n",
            "Epoch 66/100\n",
            "3125/3125 [==============================] - 55s 17ms/step - loss: 0.6580 - accuracy: 0.7691 - val_loss: 0.7482 - val_accuracy: 0.7496\n",
            "Epoch 67/100\n",
            "3125/3125 [==============================] - 55s 17ms/step - loss: 0.6550 - accuracy: 0.7731 - val_loss: 0.7579 - val_accuracy: 0.7504\n",
            "Epoch 68/100\n",
            "3125/3125 [==============================] - 55s 17ms/step - loss: 0.6529 - accuracy: 0.7723 - val_loss: 0.7581 - val_accuracy: 0.7491\n",
            "Epoch 69/100\n",
            "3125/3125 [==============================] - 54s 17ms/step - loss: 0.6502 - accuracy: 0.7733 - val_loss: 0.7706 - val_accuracy: 0.7399\n",
            "Epoch 70/100\n",
            "3125/3125 [==============================] - 55s 18ms/step - loss: 0.6460 - accuracy: 0.7764 - val_loss: 0.7484 - val_accuracy: 0.7477\n",
            "Epoch 71/100\n",
            "3125/3125 [==============================] - 55s 17ms/step - loss: 0.6427 - accuracy: 0.7770 - val_loss: 0.7407 - val_accuracy: 0.7555\n",
            "Epoch 72/100\n",
            "3125/3125 [==============================] - 55s 18ms/step - loss: 0.6389 - accuracy: 0.7793 - val_loss: 0.7842 - val_accuracy: 0.7495\n",
            "Epoch 73/100\n",
            "3125/3125 [==============================] - 55s 17ms/step - loss: 0.6351 - accuracy: 0.7804 - val_loss: 0.7392 - val_accuracy: 0.7499\n",
            "Epoch 74/100\n",
            "3125/3125 [==============================] - 55s 18ms/step - loss: 0.6326 - accuracy: 0.7796 - val_loss: 0.7488 - val_accuracy: 0.7525\n",
            "Epoch 75/100\n",
            "3125/3125 [==============================] - 55s 18ms/step - loss: 0.6292 - accuracy: 0.7826 - val_loss: 0.7487 - val_accuracy: 0.7542\n",
            "Epoch 76/100\n",
            "3125/3125 [==============================] - 55s 18ms/step - loss: 0.6299 - accuracy: 0.7804 - val_loss: 0.7633 - val_accuracy: 0.7501\n",
            "Epoch 77/100\n",
            "3125/3125 [==============================] - 55s 18ms/step - loss: 0.6267 - accuracy: 0.7821 - val_loss: 0.7296 - val_accuracy: 0.7584\n",
            "Epoch 78/100\n",
            "3125/3125 [==============================] - 55s 17ms/step - loss: 0.6187 - accuracy: 0.7832 - val_loss: 0.7575 - val_accuracy: 0.7516\n",
            "Epoch 79/100\n",
            "3125/3125 [==============================] - 54s 17ms/step - loss: 0.6169 - accuracy: 0.7851 - val_loss: 0.7528 - val_accuracy: 0.7516\n",
            "Epoch 80/100\n",
            "3125/3125 [==============================] - 55s 17ms/step - loss: 0.6160 - accuracy: 0.7848 - val_loss: 0.7350 - val_accuracy: 0.7517\n",
            "Epoch 81/100\n",
            "3125/3125 [==============================] - 54s 17ms/step - loss: 0.6156 - accuracy: 0.7871 - val_loss: 0.7265 - val_accuracy: 0.7639\n",
            "Epoch 82/100\n",
            "3125/3125 [==============================] - 54s 17ms/step - loss: 0.6129 - accuracy: 0.7869 - val_loss: 0.7422 - val_accuracy: 0.7597\n",
            "Epoch 83/100\n",
            "3125/3125 [==============================] - 54s 17ms/step - loss: 0.6068 - accuracy: 0.7899 - val_loss: 0.7599 - val_accuracy: 0.7542\n",
            "Epoch 84/100\n",
            "3125/3125 [==============================] - 54s 17ms/step - loss: 0.6089 - accuracy: 0.7892 - val_loss: 0.7477 - val_accuracy: 0.7536\n",
            "Epoch 85/100\n",
            "3125/3125 [==============================] - 54s 17ms/step - loss: 0.6060 - accuracy: 0.7899 - val_loss: 0.7589 - val_accuracy: 0.7492\n",
            "Epoch 86/100\n",
            "3125/3125 [==============================] - 55s 17ms/step - loss: 0.6025 - accuracy: 0.7924 - val_loss: 0.7288 - val_accuracy: 0.7627\n",
            "Epoch 87/100\n",
            "3125/3125 [==============================] - 54s 17ms/step - loss: 0.6005 - accuracy: 0.7942 - val_loss: 0.7289 - val_accuracy: 0.7583\n",
            "Epoch 88/100\n",
            "3125/3125 [==============================] - 54s 17ms/step - loss: 0.5971 - accuracy: 0.7947 - val_loss: 0.7520 - val_accuracy: 0.7533\n",
            "Epoch 89/100\n",
            "3125/3125 [==============================] - 54s 17ms/step - loss: 0.5931 - accuracy: 0.7939 - val_loss: 0.7716 - val_accuracy: 0.7508\n",
            "Epoch 90/100\n",
            "3125/3125 [==============================] - 54s 17ms/step - loss: 0.5938 - accuracy: 0.7954 - val_loss: 0.7546 - val_accuracy: 0.7600\n",
            "Epoch 91/100\n",
            "3125/3125 [==============================] - 55s 17ms/step - loss: 0.5902 - accuracy: 0.7949 - val_loss: 0.7503 - val_accuracy: 0.7610\n",
            "Epoch 92/100\n",
            "3125/3125 [==============================] - 54s 17ms/step - loss: 0.5864 - accuracy: 0.7988 - val_loss: 0.7302 - val_accuracy: 0.7691\n",
            "Epoch 93/100\n",
            "3125/3125 [==============================] - 54s 17ms/step - loss: 0.5885 - accuracy: 0.7948 - val_loss: 0.7358 - val_accuracy: 0.7583\n",
            "Epoch 94/100\n",
            "3125/3125 [==============================] - 55s 17ms/step - loss: 0.5829 - accuracy: 0.7983 - val_loss: 0.7347 - val_accuracy: 0.7638\n",
            "Epoch 95/100\n",
            "3125/3125 [==============================] - 55s 17ms/step - loss: 0.5837 - accuracy: 0.7979 - val_loss: 0.7115 - val_accuracy: 0.7670\n",
            "Epoch 96/100\n",
            "3125/3125 [==============================] - 54s 17ms/step - loss: 0.5833 - accuracy: 0.7991 - val_loss: 0.7280 - val_accuracy: 0.7623\n",
            "Epoch 97/100\n",
            "3125/3125 [==============================] - 55s 17ms/step - loss: 0.5798 - accuracy: 0.8005 - val_loss: 0.7443 - val_accuracy: 0.7604\n",
            "Epoch 98/100\n",
            "3125/3125 [==============================] - 55s 18ms/step - loss: 0.5743 - accuracy: 0.8000 - val_loss: 0.7181 - val_accuracy: 0.7679\n",
            "Epoch 99/100\n",
            "3125/3125 [==============================] - 55s 18ms/step - loss: 0.5759 - accuracy: 0.8015 - val_loss: 0.6980 - val_accuracy: 0.7695\n",
            "Epoch 100/100\n",
            "3125/3125 [==============================] - 54s 17ms/step - loss: 0.5718 - accuracy: 0.8010 - val_loss: 0.7502 - val_accuracy: 0.7610\n",
            "313/313 [==============================] - 3s 7ms/step - loss: 0.7502 - accuracy: 0.7610\n"
          ]
        },
        {
          "output_type": "execute_result",
          "data": {
            "text/plain": [
              "[0.7502400279045105, 0.7609999775886536]"
            ]
          },
          "metadata": {},
          "execution_count": 14
        }
      ],
      "source": [
        "history = model_one.fit(training_data,train_Labels,batch_size=batch_size,epochs=epochs,verbose=1,validation_data=(testing_data,test_Labels))\n",
        "model_one.evaluate(testing_data,test_Labels)\n"
      ]
    },
    {
      "cell_type": "code",
      "execution_count": null,
      "metadata": {
        "id": "KzNJvu8aTpLu",
        "colab": {
          "base_uri": "https://localhost:8080/"
        },
        "outputId": "9822e825-c734-4651-9ac2-a6df6750f80c"
      },
      "outputs": [
        {
          "output_type": "execute_result",
          "data": {
            "text/plain": [
              "array([[1.73857588e-05, 7.56301379e-05, 4.79243346e-04, ...,\n",
              "        1.25969955e-05, 7.77984678e-05, 1.04814708e-05],\n",
              "       [5.96568100e-02, 2.58863688e-01, 1.92975731e-05, ...,\n",
              "        3.76150638e-05, 5.19555926e-01, 1.61782995e-01],\n",
              "       [6.14536926e-02, 2.11522862e-01, 3.01876775e-04, ...,\n",
              "        1.43593177e-03, 5.01548529e-01, 2.22358271e-01],\n",
              "       ...,\n",
              "       [3.30053401e-10, 1.51379465e-10, 1.51586592e-05, ...,\n",
              "        1.93776199e-04, 2.74495815e-10, 6.47378151e-09],\n",
              "       [6.75090849e-02, 9.12121415e-01, 1.95229298e-03, ...,\n",
              "        6.09840848e-04, 1.69285981e-04, 1.13075098e-03],\n",
              "       [3.95102340e-10, 7.20600593e-11, 3.57437301e-07, ...,\n",
              "        9.99090791e-01, 4.94809217e-13, 6.23768537e-10]], dtype=float32)"
            ]
          },
          "metadata": {},
          "execution_count": 15
        }
      ],
      "source": [
        "model_one.predict(testing_data)"
      ]
    },
    {
      "cell_type": "markdown",
      "metadata": {
        "id": "S5I5TK3x8042"
      },
      "source": [
        "# Plotting The Graphs"
      ]
    },
    {
      "cell_type": "markdown",
      "metadata": {
        "id": "Zenu4CPp8xWc"
      },
      "source": [
        "**Loss Curves**"
      ]
    },
    {
      "cell_type": "code",
      "execution_count": null,
      "metadata": {
        "colab": {
          "base_uri": "https://localhost:8080/",
          "height": 428
        },
        "id": "lTLwF8oY8t5t",
        "outputId": "9a3c7da1-7a6f-46f5-be63-b40d314b8776"
      },
      "outputs": [
        {
          "output_type": "execute_result",
          "data": {
            "text/plain": [
              "Text(0.5, 1.0, 'Loss Curves')"
            ]
          },
          "metadata": {},
          "execution_count": 16
        },
        {
          "output_type": "display_data",
          "data": {
            "text/plain": [
              "<Figure size 576x432 with 1 Axes>"
            ],
            "image/png": "[encoded data removed]"
          },
          "metadata": {
            "needs_background": "light"
          }
        }
      ],
      "source": [
        "plt.figure(figsize=[8,6])\n",
        "plt.plot(history.history['loss'],'r',linewidth=3.0)\n",
        "plt.plot(history.history['val_loss'],'b',linewidth=3.0)\n",
        "plt.legend(['Training loss','Validation loss'], fontsize=18)\n",
        "plt.xlabel('Epochs',fontsize=16)\n",
        "plt.ylabel('Loss',fontsize=16)\n",
        "plt.title('Loss Curves',fontsize=16)"
      ]
    },
    {
      "cell_type": "markdown",
      "metadata": {
        "id": "5750W9yf-sNH"
      },
      "source": [
        "**Accuracy Curves**"
      ]
    },
    {
      "cell_type": "code",
      "execution_count": null,
      "metadata": {
        "colab": {
          "base_uri": "https://localhost:8080/",
          "height": 428
        },
        "id": "kt_i6owx-ih8",
        "outputId": "10b38181-d1c7-4764-e523-939acdb0b46f"
      },
      "outputs": [
        {
          "output_type": "execute_result",
          "data": {
            "text/plain": [
              "Text(0.5, 1.0, 'Accuracy Curves')"
            ]
          },
          "metadata": {},
          "execution_count": 17
        },
        {
          "output_type": "display_data",
          "data": {
            "text/plain": [
              "<Figure size 576x432 with 1 Axes>"
            ],
            "image/png": "[encoded data removed]"
          },
          "metadata": {
            "needs_background": "light"
          }
        }
      ],
      "source": [
        "plt.figure(figsize=[8,6])\n",
        "plt.plot(history.history['accuracy'],'r',linewidth=3.0)\n",
        "plt.plot(history.history['val_accuracy'],'b',linewidth=3.0)\n",
        "plt.legend(['Training Accuracy','Validation Accuracy'], fontsize=18)\n",
        "plt.xlabel('Epochs',fontsize=16)\n",
        "plt.ylabel('Accuracy',fontsize=16)\n",
        "plt.title('Accuracy Curves',fontsize=16)"
      ]
    }
  ],
  "metadata": {
    "accelerator": "GPU",
    "colab": {
      "collapsed_sections": [],
      "name": "cidar-10-classifier.ipynb",
      "provenance": []
    },
    "kernelspec": {
      "display_name": "Python 3 (ipykernel)",
      "language": "python",
      "name": "python3"
    },
    "language_info": {
      "codemirror_mode": {
        "name": "ipython",
        "version": 3
      },
      "file_extension": ".py",
      "mimetype": "text/x-python",
      "name": "python",
      "nbconvert_exporter": "python",
      "pygments_lexer": "ipython3",
      "version": "3.9.7"
    }
  },
  "nbformat": 4,
  "nbformat_minor": 0
}